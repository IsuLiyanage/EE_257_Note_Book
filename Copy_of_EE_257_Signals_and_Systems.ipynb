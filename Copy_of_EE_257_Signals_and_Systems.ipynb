{
  "nbformat": 4,
  "nbformat_minor": 0,
  "metadata": {
    "colab": {
      "provenance": [],
      "collapsed_sections": [
        "Rs_poxGowMlE",
        "2L4zQFHK4ZJn",
        "m_9KyI9B4UNo",
        "KS8lPsht43XK",
        "ea4TIOz3wzvv",
        "VVZeuu2Keuht"
      ],
      "include_colab_link": true
    },
    "kernelspec": {
      "name": "python3",
      "display_name": "Python 3"
    },
    "language_info": {
      "name": "python"
    }
  },
  "cells": [
    {
      "cell_type": "markdown",
      "metadata": {
        "id": "view-in-github",
        "colab_type": "text"
      },
      "source": [
        "<a href=\"https://colab.research.google.com/github/IsuLiyanage/EE_257_Note_Book/blob/main/Copy_of_EE_257_Signals_and_Systems.ipynb\" target=\"_parent\"><img src=\"https://colab.research.google.com/assets/colab-badge.svg\" alt=\"Open In Colab\"/></a>"
      ]
    },
    {
      "cell_type": "markdown",
      "source": [
        "#Content"
      ],
      "metadata": {
        "id": "Rs_poxGowMlE"
      }
    },
    {
      "cell_type": "markdown",
      "source": [
        "## Signals"
      ],
      "metadata": {
        "id": "mV_buCRO0Ntf"
      }
    },
    {
      "cell_type": "markdown",
      "source": [
        "###1.0 Introduction"
      ],
      "metadata": {
        "id": "2L4zQFHK4ZJn"
      }
    },
    {
      "cell_type": "markdown",
      "source": [
        "\n",
        "  1.1 Classification of Signals\n",
        "\n",
        "\n",
        "*  Continuous and Descrete time signals\n",
        "*   Continuos and Descrete valued signals\n",
        "* Deterministic and Random Signals\n",
        "* Energy and Power signals\n",
        "*Odd and Even signals\n",
        "*Periodic and Aperiodic Signals\n",
        "\n",
        "1.2 Special Signals\n",
        "\n",
        "\n",
        "*   Complex Exponential Signals\n",
        "*   Impulse\n",
        "*Unit Step\n",
        "\n",
        "1.3 Continuous and Descerete time Systems\n",
        "\n",
        "> 1.3.1 Inter Connections Between Systems\n",
        "\n",
        "   \n",
        "*   Cascaded\n",
        "* Parallel\n",
        "*Series - Parallel\n",
        "*Feedback\n",
        "\n",
        "\n",
        "\n",
        "> 1.3.2 System Properties\n",
        "\n",
        "\n",
        "\n",
        "*   System with or without memory\n",
        "*   Inverse Systems\n",
        "*Time Invariance\n",
        "*Linearity\n",
        "*Causility\n",
        "\n",
        "1.4 Operations On signals\n",
        "\n",
        "\n",
        "*   Time Delay\n",
        "*   Time Scaling\n",
        "*Negation\n",
        "\n",
        "1.5 Linear Time Invarient Systems\n",
        "\n",
        "\n",
        "> 1.5.1 Convolution For Descrete LTI system\n",
        "\n",
        "> 1.5.2 Convolution For Continous LTI system\n",
        "\n",
        "1.6 Properties of Convolution\n",
        "\n",
        "\n",
        "\n",
        "*   $x(t) * \\delta(t) = x(t)$\n",
        "*   $x(t) * \\delta(t-T) = x(t-T)$\n",
        "*Commutativity\n",
        "*Distributivity\n",
        "*Condition for Inverse\n",
        "* Laplace Transform of Convolution\n",
        "\n",
        "\n",
        "\n",
        "\n",
        "\n",
        "\n",
        "\n",
        "\n"
      ],
      "metadata": {
        "id": "zft0FnwG0HN9"
      }
    },
    {
      "cell_type": "markdown",
      "source": [
        "### 2.0 Fourier Series"
      ],
      "metadata": {
        "id": "m_9KyI9B4UNo"
      }
    },
    {
      "cell_type": "markdown",
      "source": [
        "\n",
        "2.1 Introduction\n",
        "\n",
        "> 2.1.1 Inter-domain Analysis\n",
        "\n",
        "> 2.1.2 Periodic Signals\n",
        "\n",
        "> 2.1.3 Vector Space \n",
        "\n",
        "2.2 Fourier Series\n",
        ">2.2.1 Introduction\n",
        "\n",
        ">2.2.2 Coefficients of Fourier Series\n",
        "\n",
        "2.3 Properties of Fourier Series\n",
        "> 2.3.1 Linearity\n",
        "\n",
        "> 2.3.2 Time shifting\n",
        "\n",
        "> 2.3.3 Time Reverse\n",
        "\n",
        "> 2.3.4 Time Scaling\n",
        "\n",
        "> 2.3.5 Properties For Real Signals\n",
        ">> * Real and Even\n",
        ">> * Real and Odd\n",
        "\n",
        "> 2.3.6 Differentiation and Integration\n",
        "\n",
        ">2.3.7 Fourier Series of an Impulse \n",
        "\n",
        "2.4 Trignometric Fourier Series\n",
        "\n",
        "2.5 Power of a periodic signal\n",
        "\n",
        "\n",
        "*   Parseval's Theorem\n",
        "2.6 Periodic Signal through LTI system\n",
        "\n"
      ],
      "metadata": {
        "id": "rw9gMu8W2btd"
      }
    },
    {
      "cell_type": "markdown",
      "source": [
        "### 3.0 Fourier Transform"
      ],
      "metadata": {
        "id": "KS8lPsht43XK"
      }
    },
    {
      "cell_type": "markdown",
      "source": [
        "3.1 Introduction\n",
        "\n",
        "\n",
        "> 3.1.1 Complex Valued Functions\n",
        "\n",
        "> 3.1.2 From F.S. to F.T.\n",
        "\n",
        "> 3.1.3 Fouries Transform and Inverse F.T.\n",
        "\n",
        "> 3.1.4 F.T. and L.T.\n",
        "\n",
        "3.2 Fouries Transforms of Signals\n",
        ">3.2.1 $x(t) = e^{-at}u(t)$ and $x(t) = e^{-|a|t}$\n",
        "\n",
        ">3.2.2 Delta Function $δ(t)$\n",
        "\n",
        ">3.2.3 Square Pulse\n",
        "\n",
        ">3.2.4 Unit Step Function $u(t)$\n",
        "\n",
        "3.3 Properties of F.T.\n",
        ">3.3.1 Linearity\n",
        "\n",
        ">3.3.2 Time Shifting\n",
        "\n",
        ">3.3.3 Modulation / Shifting in Frequency\n",
        "\n",
        "> 3.3.4 Differentiation and Integratino\n",
        "\n",
        ">3.3.5 Time Scaling\n",
        "\n",
        ">3.3.6 Time Reversal\n",
        "\n",
        ">3.3.7 Uses of Properties (examples of derivations)\n",
        "\n",
        "\n",
        "\n",
        ">*   $\\mathcal{F}^{-1}[δ(ω))]$\n",
        ">*   F.T. of Periodic Signals\n",
        "\n",
        ">* $\\mathcal{F}[u(t)]$\n",
        "\n",
        "3.4 F.T. properties of real signals\n",
        "\n",
        "\n",
        "*   Real signals\n",
        "*   Real even signals\n",
        "* Real Odd signals\n",
        "\n",
        "3.5 Duality\n",
        "\n",
        "3.6 Energy of the signal\n",
        "*   Parseval's Theorem\n",
        "\n",
        "3.6 Modulation\n",
        "\n",
        "3.7 L.T.I. systems and F.T.\n",
        ">3.7.1 Frequency response\n",
        "\n",
        ">3.7.2 Convolution Property\n",
        "\n",
        ">3.7.3 Differentiation Property\n",
        "\n",
        "\n",
        "\n",
        "\n",
        "\n",
        "\n",
        "\n",
        "\n",
        "\n"
      ],
      "metadata": {
        "id": "2n5aCeEH47XL"
      }
    },
    {
      "cell_type": "markdown",
      "source": [
        "# Libraries"
      ],
      "metadata": {
        "id": "ea4TIOz3wzvv"
      }
    },
    {
      "cell_type": "code",
      "source": [
        "####################### include the libraries that are used ######################\n",
        "import numpy as np\n",
        "import matplotlib.pyplot as plt\n",
        "from sympy import *\n",
        "from scipy import signal\n",
        "from matplotlib import style"
      ],
      "metadata": {
        "id": "RUCRY3hq4m7Z"
      },
      "execution_count": null,
      "outputs": []
    },
    {
      "cell_type": "code",
      "source": [
        "class Waves:\n",
        "\n",
        "  def draw_periodic_signals(self,arr,title,x_axis_label,y_axis_label,pulse_height,sampling_rate):\n",
        "    t = np.linspace(-3.9, 3.9, sampling_rate, endpoint=True)\n",
        "    plt.style.context('fast')\n",
        "    plt.figure(figsize=(10, 3))\n",
        "    plt.grid(color = 'black', linestyle = '-', linewidth = 0.1)\n",
        "    plt.plot(t, arr)\n",
        "    plt.title(f'{title}')\n",
        "    plt.xlabel(x_axis_label)\n",
        "    plt.ylabel(y_axis_label)\n",
        "    plt.axhline(y=0, color='black',linewidth = 0.5)\n",
        "    plt.axvline(x=0, color='black',linewidth = 0.5)\n",
        "    plt.ylim(-0.4,pulse_height+0.4)\n",
        "    plt.xlim(-4,4)\n",
        "    plt.show()\n",
        "\n",
        "\n",
        "\n",
        "  def square_pulse(self,periodic_time,title,x_axis_label,y_axis_label,horizontal_shift,pulse_height):\n",
        "    t = np.linspace(-3.9, 3.9, 1000, endpoint=True)\n",
        "    arr=[((1+num)//2)*pulse_height for num in signal.square(1/periodic_time * np.pi * 1 * (t-horizontal_shift))]\n",
        "    self.draw_periodic_signals(arr,title,x_axis_label,y_axis_label,pulse_height,1000)\n",
        "\n",
        "    \"\"\"To form a square pulse\"\"\"\n",
        "\n",
        "    #   wave=Waves()\n",
        "    #   wave.square_pulse(Enter periodic time,Enter Title,Enter X axis label,Enter Y axis label,Enter horizontal shift,Enter pulse height)\n",
        "\n",
        "  def sawtooth_pulse(self,periodic_time,title,x_axis_label,y_axis_label,horizontal_shift,pulse_height):\n",
        "    t = np.linspace(-3.9, 3.9, 500)\n",
        "    arr=[(1+num)*pulse_height/2 for num in signal.sawtooth(2/periodic_time * np.pi * 1 * (t-horizontal_shift))]\n",
        "    self.draw_periodic_signals(arr,title,x_axis_label,y_axis_label,pulse_height,500)\n",
        "  \n",
        "\n",
        "    \"\"\"To form a sawtooth pulse\"\"\"\n",
        "\n",
        "    #   wave=Waves()\n",
        "    #   wave.sawtooth_pulse(Enter periodic time,Enter Title,Enter X axis label,Enter Y axis label,Enter horizontal shift,Enter pulse height)"
      ],
      "metadata": {
        "id": "EzpJ1Gh8DmC-"
      },
      "execution_count": null,
      "outputs": []
    },
    {
      "cell_type": "markdown",
      "source": [
        "#1.0 Introduction"
      ],
      "metadata": {
        "id": "nJUBF99ViX2i"
      }
    },
    {
      "cell_type": "markdown",
      "source": [],
      "metadata": {
        "id": "2M0SosMCidNx"
      }
    },
    {
      "cell_type": "markdown",
      "source": [
        "# 2.0 Fourier Series"
      ],
      "metadata": {
        "id": "0cgU_5SQrl7m"
      }
    },
    {
      "cell_type": "markdown",
      "source": [
        "## 2.2 Fourier Series"
      ],
      "metadata": {
        "id": "-QXTnDHmsC8T"
      }
    },
    {
      "cell_type": "markdown",
      "source": [
        "Consider,\n",
        "\\begin{align}\n",
        "x(t)=11+4sin(5t)+\\frac{4}{3}sin(15t)\n",
        "\\end{align}"
      ],
      "metadata": {
        "id": "0HqqXG0lsIGt"
      }
    },
    {
      "cell_type": "code",
      "source": [
        "## Example"
      ],
      "metadata": {
        "id": "pUt_DCfcsXFp"
      },
      "execution_count": null,
      "outputs": []
    },
    {
      "cell_type": "markdown",
      "source": [
        "\n",
        "<p>Fundermental frequency = frequency of the lowest frequency component</p>\n",
        "Thus,\n",
        "\\begin{align}\n",
        "\\omega_0&=5\\\\\n",
        "T=\\frac{2\\pi}{5} \\:\\:&and\\:\\: f_0=\\frac{5}{2\\pi}\\\\\n",
        "e^{j\\theta}=cos\\theta &+j sin\\theta\\\\\n",
        "\\end{align}\n",
        "This gives,\n",
        "\\begin{align}\n",
        "sin\\theta = \\frac{e^{j\\theta}-e^{-j\\theta}}{2j}\\:\\:\\: and \\:\\:\\: cos\\theta = \\frac{e^{j\\theta}+e^{-j\\theta}}{2}\n",
        "\\end{align}\n",
        "\n",
        "\n",
        "By substituting to $x(t)$,\n",
        "\\begin{align}\n",
        "x(t)&=11+4(\\frac{e^{5jt}-e^{-5jt}}{2j})+\\frac{4}{3}(\\frac{e^{15j}-e^{-15j}}{2j})\\\\\n",
        "x(t)&=[\\frac{2}{3}e^{j\\frac{\\pi}{2}}]e^{(-3)5jt}+[2e^{j\\frac{\\pi}{2}}]e^{(-1)5jt}+[11]e^{(0)5jt}+[2e^{-j\\frac{\\pi}{2}}]e^{(+1)5jt}+[\\frac{2}{3}e^{-j\\frac{\\pi}{2}}]e^{(+3)5jt}\n",
        "\\end{align}\n",
        "This is the Forier Series of $x(t)$"
      ],
      "metadata": {
        "id": "TOIIkLghsZHD"
      }
    },
    {
      "cell_type": "markdown",
      "source": [
        "Here,\\\n",
        "$[\\frac{2}{3}e^{j\\frac{\\pi}{2}}],[2e^{j\\frac{\\pi}{2}}],[11],[2e^{-j\\frac{\\pi}{2}}],[\\frac{2}{3}e^{-j\\frac{\\pi}{2}}]$ are known as **Fourier Coefficients of $x(t)$**.\n",
        "\n",
        "Thus the Fourier Series Expression can be written as,\n",
        "\n",
        "\\begin{align}\n",
        "x(t)=\\sum_{k=-\\infty}^{\\infty} X_k\\:e^{jk\\omega_0t}\\:\\:\\: ; X_k \\in \\mathbb{C}\n",
        "\\end{align}\n",
        "\n",
        "\\begin{align}\n",
        "X_k&=Re[X_k]+jIm[X_k]\\\\\n",
        "\\\\\n",
        "X_k&=|X_k|e^{j.Arg[X_k]}\n",
        "\\end{align}\n"
      ],
      "metadata": {
        "id": "XsnQI7gWxwg7"
      }
    },
    {
      "cell_type": "code",
      "source": [
        "#Plots"
      ],
      "metadata": {
        "id": "njdBNabUzziD"
      },
      "execution_count": null,
      "outputs": []
    },
    {
      "cell_type": "markdown",
      "source": [
        "* Discontinuous signals can be expressed as a collection of continuous signals using fourier series.\n",
        "\n"
      ],
      "metadata": {
        "id": "9pdh_z2hyf9E"
      }
    },
    {
      "cell_type": "markdown",
      "source": [
        "\\begin{align}\n",
        "x(t)&=\\sum_{m} X_me^{jm\\omega_0t}\\\\\n",
        "x(t)&=...+X_{-2}e^{j(-2)\\omega_0t}+X_{-1}e^{j(-1)\\omega_0t}+X_{0}+X_{1}e^{j(1)\\omega_0t}+X_{2}e^{j(2)\\omega_0t}+...\\\\\n",
        "\\end{align}\n",
        "\\\n",
        "Appling Fourier Transform to L.H.S and $m^{th}$ term of R.H.S\n",
        "\\begin{align}\n",
        "\\frac{1}{T_0}\\int_{T_0}x(t)e^{-jk\\omega_0t}dt&=\\frac{1}{T_0}\\int_{T_0}X_me^{jm\\omega_0t}e^{-jk\\omega_0t}\n",
        "\\end{align}"
      ],
      "metadata": {
        "id": "0OHf-Bw9pujl"
      }
    },
    {
      "cell_type": "markdown",
      "source": [
        "\n"
      ],
      "metadata": {
        "id": "XVvUb8yHr8AY"
      }
    },
    {
      "cell_type": "markdown",
      "source": [
        "## 2.3 Properties of Fourier Series\n"
      ],
      "metadata": {
        "id": "VVZeuu2Keuht"
      }
    },
    {
      "cell_type": "markdown",
      "source": [
        "### 2.3.1 Linearity"
      ],
      "metadata": {
        "id": "AwDrJLkjhivx"
      }
    },
    {
      "cell_type": "markdown",
      "source": [
        "\n",
        "\n",
        "Consider a periodic signal $x(t)$ with a fundermental frequency $\\omega_0$ and $k^{th}$ Fourier series coefficient is given by $X_k$.\\\n",
        "Consider another periodic signal $y(t)$ with $\\textbf{the same fundermental frequency $\\omega_0$}$ and $k^{th}$ Fourier Series coefficient is given by $Y_k$.\\\n",
        "\\\n",
        "\\begin{align}\n",
        "x(t)&⟶ X_k\\\\\n",
        "y(t)&⟶ Y_k\\\\\n",
        "Ax(t)+By(t)&⟶AX_k + BY_k\\\\\n",
        "\\end{align}\n"
      ],
      "metadata": {
        "id": "5wvjDek9JiO_"
      }
    },
    {
      "cell_type": "code",
      "source": [
        "##Example"
      ],
      "metadata": {
        "id": "PCFcg5Iravk4"
      },
      "execution_count": null,
      "outputs": []
    },
    {
      "cell_type": "markdown",
      "source": [
        "### 2.3.2 Time Shifting"
      ],
      "metadata": {
        "id": "B0Q3HLokhpcg"
      }
    },
    {
      "cell_type": "markdown",
      "source": [
        "\n",
        "\n",
        "\n",
        "If Fourier Series coefficient of the periodic signal $x(t)$ is $X_k$.\n",
        "\\\n",
        "\\begin{align}\n",
        "x(t)&⟶X_k\\\\\n",
        "x(t)&=\\sum_{k}X_ke^{jk\\omega_0t}\\\\\n",
        "\\end{align}\n",
        "\n",
        "Apply $t \\Rightarrow t-t_0$;\n",
        "\n",
        "\\begin{align}\n",
        "x(t-t_0)&=\\sum_{k}X_ke^{jk\\omega_0(t-t_0)}\\\\\n",
        "x(t-t_0)&=\\sum_{k}(X_ke^{-jkw_0t_0})e^{jk\\omega_0t}\\\\\n",
        "\\end{align}\n",
        "\\\n",
        "Let $X'_k=X_ke^{-jkw_0t_0}$\n",
        "\n",
        "\\begin{align}\n",
        "|X'_k|&=|X_k|\\\\\n",
        "\\angle{X'_k}&=\\angle{X_k}-\\angle{k\\omega_0t_0}\n",
        "\\end{align}\n",
        "\\\n",
        "Degree of change of phase angle of higher harmonics is higher.\n"
      ],
      "metadata": {
        "id": "vCAVEmk_atjg"
      }
    },
    {
      "cell_type": "code",
      "source": [
        "wave=Waves()\n",
        "wave.square_pulse(2,\"a(t)\",\"t\",\"\",-1,1)"
      ],
      "metadata": {
        "id": "RNpTbdpPSS0P",
        "colab": {
          "base_uri": "https://localhost:8080/",
          "height": 183
        },
        "outputId": "6751556e-c8cb-436a-fa7d-30a2ccf88260"
      },
      "execution_count": null,
      "outputs": [
        {
          "output_type": "error",
          "ename": "NameError",
          "evalue": "ignored",
          "traceback": [
            "\u001b[0;31m---------------------------------------------------------------------------\u001b[0m",
            "\u001b[0;31mNameError\u001b[0m                                 Traceback (most recent call last)",
            "\u001b[0;32m<ipython-input-2-6cc77fc74681>\u001b[0m in \u001b[0;36m<cell line: 1>\u001b[0;34m()\u001b[0m\n\u001b[0;32m----> 1\u001b[0;31m \u001b[0mwave\u001b[0m\u001b[0;34m=\u001b[0m\u001b[0mWaves\u001b[0m\u001b[0;34m(\u001b[0m\u001b[0;34m)\u001b[0m\u001b[0;34m\u001b[0m\u001b[0;34m\u001b[0m\u001b[0m\n\u001b[0m\u001b[1;32m      2\u001b[0m \u001b[0mwave\u001b[0m\u001b[0;34m.\u001b[0m\u001b[0msquare_pulse\u001b[0m\u001b[0;34m(\u001b[0m\u001b[0;36m2\u001b[0m\u001b[0;34m,\u001b[0m\u001b[0;34m\"a(t)\"\u001b[0m\u001b[0;34m,\u001b[0m\u001b[0;34m\"t\"\u001b[0m\u001b[0;34m,\u001b[0m\u001b[0;34m\"\"\u001b[0m\u001b[0;34m,\u001b[0m\u001b[0;34m-\u001b[0m\u001b[0;36m1\u001b[0m\u001b[0;34m,\u001b[0m\u001b[0;36m1\u001b[0m\u001b[0;34m)\u001b[0m\u001b[0;34m\u001b[0m\u001b[0;34m\u001b[0m\u001b[0m\n",
            "\u001b[0;31mNameError\u001b[0m: name 'Waves' is not defined"
          ]
        }
      ]
    },
    {
      "cell_type": "markdown",
      "source": [
        "Using,\n",
        "\\begin{align}\n",
        "X_k=\\frac{1}{k\\pi}sin(k\\omega_0T_1)\n",
        "\\end{align}\n",
        "Where $T_1=1$\n",
        "\\begin{align}\n",
        "\\omega_0=\\frac{2\\pi}{T_0}=\\frac{2\\pi}{4}=\\frac{\\pi}{2}\n",
        "\\end{align}\n",
        "Thus,\n",
        "\\begin{align}\n",
        "a_k=\\frac{1}{k\\pi}sin(k\\frac{\\pi}{2})\n",
        "\\end{align}\n",
        "\n",
        "\n"
      ],
      "metadata": {
        "id": "V2bHPuqiWN6_"
      }
    },
    {
      "cell_type": "code",
      "source": [
        "wave.square_pulse(2,\"y(t)\",\"t\",\"\",0,1)"
      ],
      "metadata": {
        "id": "doiy1zWfZfcx"
      },
      "execution_count": null,
      "outputs": []
    },
    {
      "cell_type": "markdown",
      "source": [
        "In the light of above graph,\n",
        "\\begin{align}\n",
        "y(t)&=a(t-1)\\\\\n",
        "Y_k&=a_ke^{-jk\\omega_0t_0}\\\\\n",
        "Y_k&=a_ke^{-jk\\frac{\\pi}{2}}\\\\\n",
        "Y_k&=[\\frac{1}{k\\pi}sin{(k\\frac{\\pi}{2})}]e^{-jk\\frac{\\pi}{2}}\\\\\n",
        "\\end{align}"
      ],
      "metadata": {
        "id": "jASeBseVaHx2"
      }
    },
    {
      "cell_type": "markdown",
      "source": [
        "### 2.3.3 Time Reverse"
      ],
      "metadata": {
        "id": "VN7Lzsq7hscg"
      }
    },
    {
      "cell_type": "markdown",
      "source": [
        "\n",
        "If Fourier Series coefficient of the periodic signal $x(t)$ is $X_k$.\n",
        "\\\n",
        "\\begin{align}\n",
        "x(t)&⟶X_k\\\\\n",
        "x(-t)&⟶X'_k\\\\\n",
        "x(t)&=\\sum_{k}X_ke^{jk\\omega_0t}\\\\\n",
        "\\end{align}\n",
        "Apply $t⇒-t$\n",
        "\\begin{align}\n",
        "x(-t)&=\\sum_{k}X_ke^{-jk\\omega_0t}\\\\\n",
        "\\end{align}\n",
        "\\\n",
        "Inoder to obtain a simillar equation like in Fourier Series,\\\n",
        "\\\n",
        "Apply $k⇒-k$\n",
        "\\begin{align}\n",
        "x(-t)&=\\sum_{k}X_{-k}e^{jk\\omega_0t}\\\\\n",
        "\\end{align}\n",
        "Thus,\n",
        "\\begin{align}\n",
        "X'_k&=X_{-k}\n",
        "\\end{align}\n"
      ],
      "metadata": {
        "id": "9qVsS1G0SVsL"
      }
    },
    {
      "cell_type": "code",
      "source": [
        "##Example"
      ],
      "metadata": {
        "id": "i_5S6uxta4Zm"
      },
      "execution_count": null,
      "outputs": []
    },
    {
      "cell_type": "markdown",
      "source": [
        "### 2.3.4 Time Scaling"
      ],
      "metadata": {
        "id": "8DAy7d2LhyKA"
      }
    },
    {
      "cell_type": "markdown",
      "source": [
        "\n",
        "\n",
        "\n",
        "If Fourier Series coefficient of the periodic signal $x(t)$ is $X_k$.\n",
        "\\\n",
        "\\begin{align}\n",
        "x(t)&⟶X_k\\\\\n",
        "x(t)&=\\sum_{k}X_ke^{jk\\omega_0t}\\\\\n",
        "\\end{align}\n",
        "Let $t⇒\\alpha t$\n",
        "\\begin{align}\n",
        "x(\\alpha t)&=\\sum_{k}X_ke^{jk\\omega_0\\alpha t}\n",
        "\\end{align}\n",
        "New fundermental frequency  $\\omega'_0=\\alpha \\omega_0$"
      ],
      "metadata": {
        "id": "Voa72O58a1g9"
      }
    },
    {
      "cell_type": "code",
      "source": [
        "# If alpha>1,\n",
        "## 4graphs"
      ],
      "metadata": {
        "id": "x_uQsgrjU7BK"
      },
      "execution_count": null,
      "outputs": []
    },
    {
      "cell_type": "code",
      "source": [],
      "metadata": {
        "id": "HgG89qfyh9Ti"
      },
      "execution_count": null,
      "outputs": []
    },
    {
      "cell_type": "markdown",
      "source": [
        "### 2.3.5 Properties For Real Signals"
      ],
      "metadata": {
        "id": "uOuM0wmfiBbT"
      }
    },
    {
      "cell_type": "markdown",
      "source": [
        "\n",
        "\\begin{align}\n",
        "x(t)&=\\sum_{k}X_ke^{jk\\omega_0t}\\\\\n",
        "x^{*}(t)&=\\sum_{k}X_k^{*}e^{-jk\\omega_0t}\\\\\n",
        "\\end{align}\n",
        "Apply $k⇒-k$,\n",
        "\\begin{align}\n",
        "x^{*}(t)&=\\sum_{k}X_{-k}^{*}e^{jk\\omega_0t}\\\\\n",
        "\\end{align}\n",
        "Since $x(t)=x^{*}(t)$,\n",
        "\\begin{align}\n",
        "\\sum_{k}X_ke^{jk\\omega_0t}&=\\sum_{k}X_{-k}^{*}e^{jk\\omega_0t}\\\\\n",
        "\\end{align}\n",
        "\\\n",
        "Therefore,\n",
        "\\begin{align}\n",
        "X_k&=X^{*}_{-k}\\\\\n",
        "X_{-k}&=X^{*}_{k}\n",
        "\\end{align}\n",
        "This is known as Conjugate Symmetry.\\\n",
        "Consequence of this,\n",
        "\\begin{align}\n",
        "|X_k|&=|X_{-k}|\\\\\n",
        "\\angle X_k&=-\\angle X_{-k}\\\\\n",
        "\\end{align}\n",
        "\n",
        "#### Real and Even Signals\n",
        "As $x(t)$ is real,\n",
        "\\begin{align}\n",
        "X_k&=X^{*}_{-k}\\\\\n",
        "\\end{align}\n",
        "However, as x(t) is even,\n",
        "\\begin{align}\n",
        "x(t)&=x(-t)\n",
        "\\end{align}\n",
        "Therefore from the time reversal property,\n",
        "\\begin{align}\n",
        "X_k&=X_{-k}\\\\\n",
        "\\end{align}\n",
        "Then,\n",
        "\\begin{align}\n",
        "X_k=X_{-k}=X^{*}_k\\\\\n",
        "\\end{align}\n",
        "Thus,\n",
        "\\begin{align}\n",
        "X_k=X^{*}_k\\\\\n",
        "\\end{align}\n",
        "Therefore, if $x(t)$ is real and even, $X_k$ is real and even.\n"
      ],
      "metadata": {
        "id": "dHVTsCzpVE6m"
      }
    },
    {
      "cell_type": "code",
      "source": [
        "##Example"
      ],
      "metadata": {
        "id": "J9HsoYrZbC6S"
      },
      "execution_count": null,
      "outputs": []
    },
    {
      "cell_type": "markdown",
      "source": [
        "\n",
        "#### Real and Odd\n",
        "\n",
        "As $x(t)$ is real,\n",
        "\\begin{align}\n",
        "X_k=X^{*}_{-k}\\\\\n",
        "\\end{align}\n",
        "However, as $x(t)$ is odd,\n",
        "\\begin{align}\n",
        "x(t)&=-x(-t)\n",
        "\\end{align}\n",
        "Therefore, from time reversal property,\n",
        "\\begin{align}\n",
        "X_k&=-X_{-k}\\\\\n",
        "\\end{align}\n",
        "This yeilds,\n",
        "\\begin{align}\n",
        "X_k=-X_{-k}=-X^{*}_k\\\\\n",
        "\\end{align}\n",
        "\\begin{align}\n",
        "X_k=-X^{*}_k\n",
        "\\end{align}\n",
        "Therefore, if $x(t)$ is real and odd, $X_k$ is imaginary and odd.\n"
      ],
      "metadata": {
        "id": "eKaP-jPMbBUF"
      }
    },
    {
      "cell_type": "code",
      "source": [
        "##Example"
      ],
      "metadata": {
        "id": "Wm-ZPBA-bIWV"
      },
      "execution_count": null,
      "outputs": []
    },
    {
      "cell_type": "markdown",
      "source": [
        "### 2.3.6 Differentiation and Integration"
      ],
      "metadata": {
        "id": "EomhIfTYiGQr"
      }
    },
    {
      "cell_type": "markdown",
      "source": [
        "\n",
        "\n",
        "\n",
        "#### Differentiation\n",
        "\\begin{align}\n",
        "x(t)=X_0 + \\sum_{\\forall k\\neq 0}X_ke^{jk\\omega_0t}\\\\\n",
        "x'(t)=\\frac{dx(t)}{dt}=\\sum_{\\forall k\\neq 0}(X_kjk\\omega_0)e^{jk\\omega_0t}\n",
        "\\end{align}\n",
        "\\\n",
        "\\begin{align}\n",
        "X'_k=jk\\omega_0X_k \\:\\:\\:\\:\\: ;k\\neq 0\n",
        "\\end{align}\n",
        "\\\n",
        "Differentiation is a high pass process / sharpning process.\n",
        "\n",
        "\\begin{align}\n",
        "X_k=\\frac{X'_k}{jk\\omega_0}\\:\\:\\:\\:\\: ;k\\neq 0\n",
        "\\end{align}\n",
        "#### Integration\n",
        "\\begin{align}\n",
        "x(t)=X_0 + \\sum_{\\forall k\\neq 0}X_ke^{jk\\omega_0t}\\\\\n",
        "x'(t)=\\int x(t)dt=\\sum_{\\forall k\\neq 0}\\:\\:\\frac{X_k}{jk\\omega_0}\\:e^{jk\\omega_0t}\n",
        "\\end{align}\n",
        "\\\n",
        "\\\n",
        "\\begin{align}\n",
        "X'_k=\\frac{X_k}{jk\\omega_0}\\:\\:\\:\\:\\: ;k\\neq 0\n",
        "\\end{align}\n",
        "Integration is a low pass process / smoothing process.\n",
        "\\begin{align}\n",
        "X_k=jk\\omega_0X'_k \\:\\:\\:\\:\\: ;k\\neq 0\n",
        "\\end{align}"
      ],
      "metadata": {
        "id": "1eu25sg_bGqu"
      }
    },
    {
      "cell_type": "code",
      "source": [
        "##Example"
      ],
      "metadata": {
        "id": "jo91UMn4bLSR"
      },
      "execution_count": null,
      "outputs": []
    },
    {
      "cell_type": "markdown",
      "source": [
        "### 2.3.7 Fourier Series of an Impulse"
      ],
      "metadata": {
        "id": "IgG1LX0gm2tP"
      }
    },
    {
      "cell_type": "markdown",
      "source": [
        "\\begin{align}\n",
        "x(t)&=\\sum_{k=-∞}^{∞} \\delta(t-kT_0)\\\\\n",
        "X_0&=\\frac{1}{T_0}\\int_{T_0}x(t)dt\\\\\n",
        "&=\\frac{1}{T_0}\\int_{\\frac{-T_0}{2}}^{\\frac{T_0}{2}}\\delta(t)dt\\\\\n",
        "&=\\frac{1}{T_0}\n",
        "\\\\\n",
        "X_k&=\\frac{1}{T_0} \\int_{T_0}e^{-jk\\omega_0t}dt\\\\\n",
        "&=\\frac{1}{T_0}\\int_{\\frac{-T_0}{2}}^{\\frac{T_0}{2}} \\delta (t) e^{-jk\\omega_0t}dt\n",
        "\\end{align}"
      ],
      "metadata": {
        "id": "Os6wJjZWnyME"
      }
    },
    {
      "cell_type": "code",
      "source": [
        "#Example"
      ],
      "metadata": {
        "id": "tlmWsaXL6OV-"
      },
      "execution_count": null,
      "outputs": []
    },
    {
      "cell_type": "markdown",
      "source": [
        "\\begin{align}\n",
        "X_k&=\\frac{1}{T_0}\\int_{-\\frac{T_0}{2}}^{\\frac{T_0}{2}}\\delta (t)e^{-jk\\omega_0 \\times 0}dt\\\\\n",
        "&=\\frac{1}{T_0}\n",
        "\\end{align}\n",
        "This yeilds,\n",
        "\\begin{align}\n",
        "x(t)=\\sum_{\\forall k}\\delta (t-kT_0)=\\sum_{\\forall k}\\frac{1}{T_0}e^{jk\\omega_0t}\n",
        "\\end{align}"
      ],
      "metadata": {
        "id": "Tf9tQnbS6XMo"
      }
    },
    {
      "cell_type": "code",
      "source": [
        "wave.sawtooth_pulse(2,\"x(t)\",\"t\",\"\",0,1)"
      ],
      "metadata": {
        "id": "WvP0GK8o7l4m"
      },
      "execution_count": null,
      "outputs": []
    },
    {
      "cell_type": "markdown",
      "source": [
        "\\begin{align}\n",
        "\\omega_0&=\\frac{2\\pi}{2}=\\pi\\\\\n",
        "X_0&=\\frac{1}{2}\\int_{2}x(t)dt\\\\\n",
        "&=\\frac{1}{2}\\int_{0}^{2}\\frac{t}{2}dt\\\\\n",
        "&=\\frac{1}{2}\n",
        "\\end{align}"
      ],
      "metadata": {
        "id": "3ahYm-fJhcEa"
      }
    },
    {
      "cell_type": "markdown",
      "source": [
        "## 2.4 The Trigonometric Fourier Series"
      ],
      "metadata": {
        "id": "WZznfzEZAPsD"
      }
    },
    {
      "cell_type": "markdown",
      "source": [
        "\\begin{align}\n",
        "x(t) = X_0 + \\sum_{k=-∞}^∞ X_k .e^{jkω_0 t}\n",
        "\\end{align}\n",
        "\n",
        "Consider the $k^{th}$ term,\n",
        "\\begin{align}\n",
        "X_k\\space e^{jkω_0t} = X_k[\\space cos(kω_0t) + j\\space sin(kω_0t)\\space]\\\\\n",
        "X_{-k}\\space e^{jkω_0t} = X_{-k}[\\space cos(kω_0t) - j\\space sin(kω_0t)\\space] \n",
        "\\end{align}\n",
        "Therefore,\n",
        "\\begin{align}\n",
        "X_k\\space e^{jkω_0t} + X_{-k}\\space e^{jkω_0t} = (X_k + X_{-k})\\cos(kω_0t) + j\\space (X_k - X_{-k}) \\sin(kω_0t)\n",
        "\\end{align}"
      ],
      "metadata": {
        "id": "6VINceQVAy56"
      }
    },
    {
      "cell_type": "markdown",
      "source": [
        "\n",
        "\n",
        "---\n",
        "\n",
        "\n",
        "**Note:**\n",
        "\\begin{align}\n",
        "\\sum_{k=-∞}^∞ x_k &= \\sum_{k=-∞}^{-1} x_k + x_0 + \\sum_{k=1}^∞ x_k\\\\\n",
        "apply \\space (k ⇒ -k)\\\\\n",
        "&= \\sum_{k=1}^{∞} x_{-k} + x_0 + \\sum_{k=1}^∞ x_k\\\\\n",
        "&= x_0 + \\sum_{k=1}^{∞} x_{-k} + \\sum_{k=1}^∞ x_k\\\\\n",
        "&= x_0 + \\sum_{k=1}^∞ (x_k + x_{-k})\n",
        "\\end{align}\n",
        "\n",
        "\n",
        "---\n",
        "\n",
        "\n",
        "Hence, the trigonometric fourier series:\n",
        "\\begin{align}\n",
        "x(t) = X_0 + \\sum_{k=1}^∞ [A_k \\cos (kω_0t) + B_k \\sin (kω_0t) ]\n",
        "\\end{align}\n",
        "\n",
        "where,\n",
        "\\begin{align}\n",
        "A_k &= X_k + X_{-k}\\\\\n",
        "&= \\frac1{T_0} ∫_{T_0} x(t)[e^{jkω_0t}+ e^{-jkω_0t}] dt\\\\\n",
        "&= \\frac2{T_0} ∫_{T_0} x(t) \\cos (kω_0t) dt\\\\\\\n",
        "B_k &= j(X_k - X_{-k})\\\\\n",
        "&= \\frac j{T_0} ∫_{T_0} x(t)[e^{jkω_0t}- e^{-jkω_0t}] dt\\\\\n",
        "&= \\frac2{T_0} ∫_{T_0} x(t) \\sin (kω_0t) dt\n",
        "\\end{align}\n",
        "\n",
        "If signal is odd $A_k = 0$.\\\n",
        "If signal is even $B_k = 0$."
      ],
      "metadata": {
        "id": "R3v8t6y5EhLL"
      }
    },
    {
      "cell_type": "markdown",
      "source": [
        "## 2.5 Power of a Periodic Signal"
      ],
      "metadata": {
        "id": "XTjTu5vLAPnG"
      }
    },
    {
      "cell_type": "markdown",
      "source": [
        "Periodic signals are power signals whose total average power is finite.\n",
        "\\begin{align}\n",
        "P_{avg} = \\frac 1{T_0} ∫_{T_0} |x(t)|^2 \\space dt\n",
        "\\end{align}"
      ],
      "metadata": {
        "id": "7rAGSy5HRryh"
      }
    },
    {
      "cell_type": "code",
      "source": [
        "#Waveform figure"
      ],
      "metadata": {
        "id": "kypPl4cESkeO"
      },
      "execution_count": null,
      "outputs": []
    },
    {
      "cell_type": "markdown",
      "source": [
        "\n",
        "\n",
        "*   **Parsevel's Theorem**\n",
        "\n",
        "\\begin{align}\n",
        "P_{avg} &= \\frac1{T_0} ∫_{T_0} |x(t)|^2 \\space dt\\\\\n",
        "&= \\frac1{T_0} ∫_{T_0} x(t). x^*(t) \\space dt\\\\\n",
        "&= \\frac1{T_0} ∫_{T_0} \\left(\\sum_k X_k e^{jkω_0t}.\\sum_m X_m^* e^{-jmω_0t}\\right) \\space dt\\\\\n",
        "&= \\frac1{T_0} ∫_{T_0} \\left(\\sum_k \\sum_mX_k e^{jkω_0t}. X_m^* e^{-jmω_0t}\\right) \\space dt\\\\\n",
        "&= \\frac1{T_0} ∫_{T_0} \\left(\\sum_k \\sum_mX_k . X_m^* .e^{j(k-m)ω_0t}\\right) \\space dt\\\\\n",
        "&=  \\sum_k \\sum_m \\left(\\frac1{T_0} ∫_{T_0}X_k . X_m^* .e^{j(k-m)ω_0t}\\right) \\space dt\\\\\n",
        "&=  \\sum_k \\sum_m \\left(X_k . X_m^* .\\frac1{T_0} ∫_{T_0}e^{j(k-m)ω_0t}\\right) \\space dt\\\\\n",
        "&= \\sum_k X_kX_k^* \\space ⇒ \\left\\{ \\frac1{T_0} ∫_{T_0}e^{j(k-m)ω_0t} \\space dt = \\left\\{\n",
        "        \\begin{array}{cl}\n",
        "        1 & ;k=m \\\\\n",
        "        0 & ;k≠m.\n",
        "        \\end{array}\n",
        "        \\right.\n",
        "         \\right\\} \\\\\n",
        "&= ∑_k |X_k|^2\n",
        "\\end{align}\n",
        "Therefore, \n",
        "\\begin{align}\n",
        "P_avg = \\frac1{T_0} ∫_{T_0} |x(t)|^2 dt = \\sum_k |X_k|^2 \\space ⇐ (Parseval's \\space Theorem)\n",
        "\\end{align}"
      ],
      "metadata": {
        "id": "88L4kPyDS1tf"
      }
    },
    {
      "cell_type": "markdown",
      "source": [
        "$∫ |x(t)|^2$ ⇐ $2^{nd}$ norm in time domain\\\n",
        "$\\sum |X_k|^2$  ⇐ $2^{nd}$ norm in frequency domain"
      ],
      "metadata": {
        "id": "GBeYnj8LtJqh"
      }
    },
    {
      "cell_type": "code",
      "source": [
        "#2nd norm in time domain \n",
        "#2nd norm in frequency domain"
      ],
      "metadata": {
        "id": "t9xP1Chzs-Ai"
      },
      "execution_count": null,
      "outputs": []
    },
    {
      "cell_type": "markdown",
      "source": [
        "## 2.6 Periodic Signal Transmission through LTI System"
      ],
      "metadata": {
        "id": "ABr0VFLtuC34"
      }
    },
    {
      "cell_type": "markdown",
      "source": [
        "\\begin{align}\n",
        "x(t) = \\sum_k X_k \\space e^{jkω_0 t}\\\\\n",
        "y(t) &= h(t)*x(t)\\\\\n",
        "&= \\int _{-∞}^∞ h(τ). x(t-τ) dτ\\\\\n",
        "&= \\int _{-∞}^∞ h(τ). \\sum_k X_k \\space e^{jkω_0 (t-τ)} dτ\\\\\n",
        "&= \\sum_k X_k \\space e^{jkω_0t} \\left[ \\int _{-∞}^∞ h(τ). e^{-jkω_0 τ} dτ\\right]\\\\\n",
        "&= \\sum_k X_k \\space e^{jkω_0t} \\space H(jkω_0)\\\\\n",
        "&= \\sum_k X_k \\space H(jkω_0) \\space e^{jkω_0t} \\\\\n",
        "&= \\sum_k Y_k \\space e^{jkω_0t}\n",
        "\\end{align}\n",
        "\n",
        "Therefore,\n",
        "$Y_k = X_k \\space H(jkω_0)$"
      ],
      "metadata": {
        "id": "wZA6Wx2LuUMR"
      }
    },
    {
      "cell_type": "markdown",
      "source": [
        "# 3.0 Fourier Transform"
      ],
      "metadata": {
        "id": "OvHrCgJ_ihEF"
      }
    },
    {
      "cell_type": "markdown",
      "source": [
        "## 3.1 Introduction"
      ],
      "metadata": {
        "id": "dCUZDDM8xf3l"
      }
    },
    {
      "cell_type": "markdown",
      "source": [
        "### 3.1.1 Complex valued functions"
      ],
      "metadata": {
        "id": "V_xA4ERuxm0P"
      }
    },
    {
      "cell_type": "markdown",
      "source": [],
      "metadata": {
        "id": "XxgIjLzayeaA"
      }
    },
    {
      "cell_type": "markdown",
      "source": [
        "### 3.1.2 From F.S to F.T"
      ],
      "metadata": {
        "id": "V9iL66hdx6BU"
      }
    },
    {
      "cell_type": "markdown",
      "source": [],
      "metadata": {
        "id": "C-NguEpgyaOo"
      }
    },
    {
      "cell_type": "markdown",
      "source": [
        "### 3.1.3 Fourier Transform and Inverse Fourier Transform"
      ],
      "metadata": {
        "id": "IgCR3HTgygHZ"
      }
    },
    {
      "cell_type": "markdown",
      "source": [
        "**Fourier Transform**\n",
        "\\begin{align}\n",
        "X(jω) &= 𝓕[x(t)]\\\\\n",
        "X(jω) &= ∫_{-∞}^∞ x(t) \\space e^{-jωt} dt\\\\\n",
        "X(f) &= ∫_{-∞}^∞ x(t) \\space e^{-j2𝝅ft} dt\n",
        "\\end{align}\n",
        "\n",
        "\n",
        "**Inverse Fourier Transform**\n",
        "\\begin{align}\n",
        "x(t) &= 𝓕^{-1}[X(jω)]\\\\\n",
        "x(t) &= \\frac1{2π}∫_{-∞}^∞ X(jω) \\space e^{jωt} dω\\\\\n",
        "x(t) &= ∫_{-∞}^∞ X(f) \\space e^{j2𝝅ft} df\n",
        "\\end{align}"
      ],
      "metadata": {
        "id": "nnPZg1JVyqkB"
      }
    },
    {
      "cell_type": "markdown",
      "source": [
        "### 3.1.4 F.T and L.T."
      ],
      "metadata": {
        "id": "LamJiq7c1Hgg"
      }
    },
    {
      "cell_type": "markdown",
      "source": [],
      "metadata": {
        "id": "VCuOLlo-1NgB"
      }
    },
    {
      "cell_type": "markdown",
      "source": [
        "## 3.2 Fourier Transform of Signals"
      ],
      "metadata": {
        "id": "OVlcO6lI1OXI"
      }
    },
    {
      "cell_type": "markdown",
      "source": [
        "### 3.2.1 $x(t) = e^{-at}u(t)$ and $x(t) = e^{-|a|t}$"
      ],
      "metadata": {
        "id": "Z5SvkLCM1bCB"
      }
    },
    {
      "cell_type": "markdown",
      "source": [
        "**$x(t) = e^{-at}u(t)$**\n",
        "\\begin{align}\n",
        "X(jω) &= ∫_{-∞}^∞ x(t) \\space e^{-jωt}dt\\\\\n",
        "&= ∫_{-∞}^∞ e^{-at}.u(t). \\space e^{-jωt}dt\\\\\n",
        "&= ∫_{0}^∞ e^{-at} \\space e^{-jωt}dt\\\\\n",
        "&= ∫_{0}^∞ e^{-(a+j\\omega )t} dt\\\\\n",
        "&= \\frac{1}{a+jω}\n",
        "\\end{align}\n",
        "Therefore,\n",
        "\\begin{align}\n",
        "𝓕[e^{-at}.u(t)] &= \\frac{1}{a+jω} = \\frac{a-jω}{a^2+ω^2}\\\\\n",
        "&= \\frac{a}{a^2+ω^2} - j.\\frac{ω}{a^2+ω^2}\n",
        "\\end{align}\n",
        "\n",
        "Magnitude Spectrum:\n",
        "\n",
        "\\begin{align}\n",
        "|X(jω)| = \\frac{1}{\\sqrt{a^2+ω^2}}\n",
        "\\end{align}\n",
        "\n",
        "Phase Spectrum:\n",
        "\\begin{align}\n",
        "∠{X(jω)} &= \\tan^{-1}(\\frac{-ω}{a})\\\\\n",
        "&= -\\tan^{-1}(\\frac{ω}{a})\n",
        "\\end{align}\n"
      ],
      "metadata": {
        "id": "Ggpg6G1x1mX3"
      }
    },
    {
      "cell_type": "code",
      "source": [
        "#magnitude spectrum and Phase spectrum"
      ],
      "metadata": {
        "id": "mvSN0Paz4t_Z"
      },
      "execution_count": null,
      "outputs": []
    },
    {
      "cell_type": "markdown",
      "source": [
        "**$x(t) = e^{-|a|t}u(t)$**"
      ],
      "metadata": {
        "id": "2ntSQ1_i43F0"
      }
    },
    {
      "cell_type": "markdown",
      "source": [
        "### 3.2.2 Delta Function δ(t)"
      ],
      "metadata": {
        "id": "gsvLN3mt487Y"
      }
    },
    {
      "cell_type": "code",
      "source": [
        "#delta fn"
      ],
      "metadata": {
        "id": "quSIAWqtBNj5"
      },
      "execution_count": null,
      "outputs": []
    },
    {
      "cell_type": "markdown",
      "source": [
        "\\begin{align}\n",
        "x(t) = δ(t)\\\\\n",
        "X(jω) &= ∫_{-∞}^∞ δ(t) . e^{-jωt} dt\\\\\n",
        "&= ∫_{-∞}^∞ δ(t) . e^{-jω\\times 0} dt\\\\\n",
        "&= ∫_{-∞}^∞ δ(t)  dt\\\\\n",
        "&=1\n",
        "\\end{align}\n",
        "\n",
        "Therefore,\n",
        "\\begin{align}\n",
        "𝓕[δ(t)] = 1\n",
        "\\end{align}"
      ],
      "metadata": {
        "id": "wTu0cosy5Jt4"
      }
    },
    {
      "cell_type": "markdown",
      "source": [
        "### 3.2.3 Square Pulse"
      ],
      "metadata": {
        "id": "KiqwdBx6CPDR"
      }
    },
    {
      "cell_type": "code",
      "source": [
        "#square pulse"
      ],
      "metadata": {
        "id": "P-g6wxEgCVoh"
      },
      "execution_count": null,
      "outputs": []
    },
    {
      "cell_type": "markdown",
      "source": [
        "\\begin{align}\n",
        "x(t) = ∏(\\frac1{2T_1 } )\\\\\n",
        "X(jω) &= ∫_{-∞}^∞ x(t). e^{-jωt} dt\\\\\n",
        "&= ∫_{-T_1}^{T_1} 1. e^{-jωt} dt\\\\\n",
        "&= \\frac{e^{jωT_1}-e^{-jωT_1}}{jω}\\\\\n",
        "&= \\frac2{\\omega} \\left( \\frac{e^{jωT_1}-e^{-jωT_1}}{2j} \\right)\\\\\n",
        "&= \\frac2{\\omega}. \\sin(ωT_1)\\\\\n",
        "&= 2T_1 \\frac{\\sin(π(\\frac{ωT_1}{π}) )}{π(\\frac{ωT_1}{π})} \\\\\n",
        "&= 2T_1. sinc(\\frac{ωT_1}{π})\n",
        "\\end{align}\n",
        "\n",
        "Therefore,\n",
        "\\begin{align}\n",
        "𝓕[∏(\\frac1{2T_1 } )]\n",
        "&= 2T_1. sinc(\\frac{ωT_1}{π})\n",
        "\\end{align}"
      ],
      "metadata": {
        "id": "9Juw_OcNCYjB"
      }
    },
    {
      "cell_type": "markdown",
      "source": [
        "\n",
        "\n",
        "---\n",
        "\n",
        "\n",
        "**Note:**\n",
        "\n",
        "\\begin{align}\n",
        "sinc(x) = \\frac{\\sin(\\pi x)}{π x}\n",
        "\\end{align}\n",
        "\n",
        "At $x=0$,\n",
        "\\begin{align}\n",
        "\\lim_{x→0} sinc(x) &= \\lim_{x→0}\\frac{\\sin(\\pi x)}{π x}\\\\\n",
        "&= \\lim_{x→0}\\frac{\\pi \\cos(\\pi x)}{π }\\\\\n",
        "&= 1\n",
        "\\end{align}\n",
        "Thus, $sinc(0) = 1."
      ],
      "metadata": {
        "id": "0KpNOOJBFcdq"
      }
    },
    {
      "cell_type": "markdown",
      "source": [
        "**Intersection points of x axis;**\n",
        "\\begin{align}\n",
        "sinc(x) &= 0\\\\\n",
        "\\frac{\\sin(\\pi x)}{π x} &= 0\\\\\n",
        "\\sin(\\pi x) &= 0\\\\\n",
        "\\sin(\\pi x) &= \\sin(0)\\\\\n",
        "\\therefore πx &= nπ \\space ; \\space (n∈Ƶ) \\\\\n",
        "x &= n\n",
        "\\end{align}"
      ],
      "metadata": {
        "id": "QdyeyvIRHA1h"
      }
    },
    {
      "cell_type": "code",
      "source": [
        "#sinc(x) vs x"
      ],
      "metadata": {
        "id": "kwAwLBYJH3oB"
      },
      "execution_count": null,
      "outputs": []
    },
    {
      "cell_type": "markdown",
      "source": [
        "**Intersection points of ω axis;**\n",
        "\\begin{align}\n",
        "X(jω) &= 0\\\\\n",
        "sinc(\\frac{ωT_1}{π}) &= 0\\\\\n",
        "\\therefore \\frac{ωT_1}{π} &= n \\space ; \\space (n∈Ƶ) \\\\\n",
        "ω &= \\frac{nπ}{T_1}\n",
        "\\end{align}"
      ],
      "metadata": {
        "id": "b9c2PUIDH8rt"
      }
    },
    {
      "cell_type": "code",
      "source": [
        "#X(jw) vs w"
      ],
      "metadata": {
        "id": "IXIX1JLBIvli"
      },
      "execution_count": null,
      "outputs": []
    },
    {
      "cell_type": "markdown",
      "source": [
        "## 3.3 Properties of Fourier Transeform"
      ],
      "metadata": {
        "id": "kubMTqXyikuP"
      }
    },
    {
      "cell_type": "markdown",
      "source": [
        "### 3.3.1 Linearity\n"
      ],
      "metadata": {
        "id": "S0wzufsQHQyb"
      }
    },
    {
      "cell_type": "markdown",
      "source": [
        "\\begin{align}\n",
        "\\mathcal{F}[x_1(t)]=X_1(jω) \\\\\n",
        "\\mathcal{F}[x_2(t)]=X_2(jω)\n",
        "\\end{align}\n",
        "\\\n",
        "\\begin{align}\n",
        "\\mathcal{F}[Ax_1(t)\\pm Bx_2(t)]=AX_1(jω)\\pm BX_2(jω)\n",
        "\\end{align}"
      ],
      "metadata": {
        "id": "02vRJX8nHWxC"
      }
    },
    {
      "cell_type": "markdown",
      "source": [
        "### 3.3.2. Time Shifting\n"
      ],
      "metadata": {
        "id": "u9S6Kv8dHa4q"
      }
    },
    {
      "cell_type": "markdown",
      "source": [
        "\\begin{align}\n",
        "\\mathcal{F}[x(t)]=X(jω) \n",
        "\\end{align}\n",
        "\\\n",
        "Using inverse fourier transform,\n",
        "\\begin{align}\n",
        "x(t)= \\frac{1} {2π} \\, \\int_{-∞}^{∞}X(jω) \\, e^{jωt} \\mathrm{d}ω\n",
        "\\end{align}\n",
        "\\\n",
        "Apply $t \\Rightarrow t-t_0$;\n",
        "\\\n",
        "\\begin{align}\n",
        "x(t-t_0)= &\\frac{1} {2π} \\, \\int_{-∞}^{∞}X(jω) \\, e^{jω(t-t_0)} \\mathrm{d}ω \\\\\n",
        "x(t-t_0)= &\\frac{1} {2π} \\, \\int_{-∞}^{∞}X(jω)\\, e^{-jωt_0}  \\, e^{jωt} \\mathrm{d}ω\n",
        "\\end{align}\n",
        "\\\n",
        "Let  $X'(jω)=\\mathcal{F}[x(t-t_0)]$ ,\\\n",
        "\\\n",
        "\\begin{align}\n",
        "X'(jω)=\\mathcal{F}[x(t-t_0)]=X(jω)e^{-jωt_0} \n",
        "\\end{align}\\\n",
        "\\\n",
        "\\begin{align}\n",
        "|X'(jω)|=&|X(jω)|\\\\\n",
        "\\angle{X'(jω)}=&\\angle{X(jω)}-\\angle{\\omega t_0}\n",
        "\\end{align}\\\n",
        "\\\n",
        "Therefore, time shift will not affect the magnitude spectrum.\n",
        "But, phase spectrum is affected in a linear manner where phase shift is larger in large $\\omega$ .\n"
      ],
      "metadata": {
        "id": "sDurT7X-HhD8"
      }
    },
    {
      "cell_type": "code",
      "source": [
        "##example"
      ],
      "metadata": {
        "id": "9wk3FJZ7Tyev"
      },
      "execution_count": null,
      "outputs": []
    },
    {
      "cell_type": "markdown",
      "source": [
        "### 3.3.3 Modulation/Shifting in Frequency"
      ],
      "metadata": {
        "id": "5dlVC2nET1hn"
      }
    },
    {
      "cell_type": "markdown",
      "source": [
        "\n",
        "\\begin{align}\n",
        "X(jω) ⇒ x(t)\\\\\n",
        "X[j(ω-ω_0)] ⇒ ?\n",
        "\\end{align}\n",
        "\\\n",
        "Here we want to find what is the inverse fourier transform of $X[j(\\omega-\\omega_0)]$.\\\n",
        "\\\n",
        "\\begin{align}\n",
        "\\mathcal{F}[x(t)]=X(jω) \n",
        "\\end{align}\n",
        "\\\n",
        "Consider fourier transform of $x(t) e^{jω_0t}$,\\\n",
        "\\\n",
        "\\begin{align*}\n",
        "\\mathcal{F}[x(t) e^{jω_0t}]= &\\int_{-∞}^{∞}x(t)\\, e^{jω_0t}  \\, e^{-jωt} \\mathrm{d}t \\\\\n",
        "=&\\int_{-∞}^{∞}x(t)\\, e^{-j(\\omega-ω_0)t} \\mathrm{d}t \\\\\n",
        "\\mathcal{F}[x(t) e^{jω_0t}]=&X[j(ω-ω_0)]\n",
        "\\end{align*}\\\n",
        "\\\n",
        "Therfore,\n",
        "\\\n",
        "\\begin{align}\n",
        "\\mathcal{F^{-1}}[X[j(ω-\\omega_0)]]= x(t) e^{jω_0t}\n",
        "\\end{align}"
      ],
      "metadata": {
        "id": "sM07Mav9WPkX"
      }
    },
    {
      "cell_type": "markdown",
      "source": [
        "### 3.3.4 Differentiation and Integration"
      ],
      "metadata": {
        "id": "tz4EW9oNjNqR"
      }
    },
    {
      "cell_type": "markdown",
      "source": [
        "#### Differentiation"
      ],
      "metadata": {
        "id": "S0MnW6kFja_q"
      }
    },
    {
      "cell_type": "markdown",
      "source": [
        "\\begin{align}\n",
        "x(t)=& \\frac{1} {2π} \\, \\int_{-∞}^{∞}X(jω) \\, e^{jωt} \\, \\mathrm{d}ω \\\\ \n",
        "\\end{align}\\\n",
        "\\\n",
        "\\begin{align}\n",
        "x'(t)=&\\frac{\\mathrm{d} x(t)}{\\mathrm{d}t}\\\\\n",
        "=&\\frac{\\mathrm{d}}{\\mathrm{d}t}(\\frac{1} {2π} \\, \\int_{-∞}^{∞}X(jω) \\, e^{jωt} \\, \\mathrm{d}ω) \\\\\n",
        "=&\\frac{1} {2π}\\int_{-∞}^{∞}\\frac{\\mathrm{d}}{\\mathrm{d}t}[X(jω) \\, e^{jωt} ] \\,\\mathrm{d}ω \\\\\n",
        "=&\\frac{1} {2π}\\int_{-∞}^{∞}X(jω)\\frac{\\mathrm{d}}{\\mathrm{d}t}[e^{jωt} ] \\,\\mathrm{d}ω \\\\\n",
        "x'(t)=&\\frac{1} {2π}\\int_{-∞}^{∞}[(j\\omega)X(jω)]\\,e^{jωt} \\,\\mathrm{d}ω \\\\\n",
        "\\end{align}\n",
        "\n",
        "Therfore, \n",
        "\\begin{align}\n",
        "X'(jω)= (j\\omega)X(jω)\n",
        "\\end{align}\n",
        "\n",
        "Higher the $\\omega$, higher the |X'(jω)|. Therfore, differentiation is high pass process.\n",
        "\n",
        "Simillary,\n",
        "\\begin{align}\n",
        "X^{n}(jω)= (j\\omega)^{n}X(jω)\n",
        "\\end{align}"
      ],
      "metadata": {
        "id": "JGw88mqdji84"
      }
    },
    {
      "cell_type": "markdown",
      "source": [
        "#### Integration"
      ],
      "metadata": {
        "id": "Ij94nBjdsNxF"
      }
    },
    {
      "cell_type": "markdown",
      "source": [
        "Fourier transform of integration of $x(t)$ is given by,\\\n",
        "\\\n",
        "\\begin{align}\n",
        "\\mathcal{F}[\\int_{-∞}^{t}x(𝝉)\\,\\mathrm{d}𝝉] = \\frac{X(j\\omega)}{j\\omega} +π\\,{X(0)}\\,δ(\\omega)\n",
        "\\end{align}\\\n",
        "where $X(0)$ is area under the curve which is given by,\\\n",
        "\\\n",
        "\\begin{align}\n",
        "X(0)=\\int_{-∞}^{∞}x(t)\\,\\mathrm{d}t\n",
        "\\end{align}\\\n",
        "\\\n",
        "Aslong as area under the curve is non zero integrated signal will generate a dc value, $π\\,{X(0)}\\,δ(\\omega)$ and it will appear as a impulse at $\\omega=0$.\\\n",
        "\\\n",
        "Integration is low pass process as integration operation will smooth the high frequency components."
      ],
      "metadata": {
        "id": "PdC2DvUpsRoV"
      }
    },
    {
      "cell_type": "code",
      "source": [
        "##plot"
      ],
      "metadata": {
        "id": "6ePSVUy9aW4X"
      },
      "execution_count": null,
      "outputs": []
    },
    {
      "cell_type": "markdown",
      "source": [
        "We can find fourier transform of x(t) using integration and differentiation results as bellow.\\\n",
        "\\\n",
        "\\begin{align}\n",
        "\\mathcal{F}[x(t)] = \\frac{X'(j\\omega)}{j\\omega} +π\\,{X'(0)}\\,δ(\\omega)\n",
        "\\end{align}"
      ],
      "metadata": {
        "id": "t5CAFYP8aYsP"
      }
    },
    {
      "cell_type": "markdown",
      "source": [
        "### 3.3.7 Uses of Properties(examples of derivations)"
      ],
      "metadata": {
        "id": "WVEbb-gayHbv"
      }
    },
    {
      "cell_type": "markdown",
      "source": [
        " Example 1"
      ],
      "metadata": {
        "id": "RQU9ID4lcVP-"
      }
    },
    {
      "cell_type": "code",
      "source": [
        "#plot 1"
      ],
      "metadata": {
        "id": "77O0X0dAdQBh"
      },
      "execution_count": null,
      "outputs": []
    },
    {
      "cell_type": "markdown",
      "source": [
        "Area under the curve is not zero.\n",
        "\\begin{align}\n",
        "\\int_{-∞}^{∞}x'(t)\\,\\mathrm{d}t \\neq 0\n",
        "\\end{align}"
      ],
      "metadata": {
        "id": "Xe5gzY2XdVg9"
      }
    },
    {
      "cell_type": "code",
      "source": [
        "#plot 2"
      ],
      "metadata": {
        "id": "KbQu95qgzmxA"
      },
      "execution_count": null,
      "outputs": []
    },
    {
      "cell_type": "markdown",
      "source": [
        "Positive and negative area will be cancell out.\n",
        "Therfore,area under the curve is zero.\n",
        "\\begin{align}\n",
        "\\int_{-∞}^{∞}x'(t)\\,\\mathrm{d}t = 0\n",
        "\\end{align}"
      ],
      "metadata": {
        "id": "XlfAbO90zowf"
      }
    },
    {
      "cell_type": "markdown",
      "source": [
        "If $\\int_{-∞}^{∞}x'(t)\\,\\mathrm{d}t = 0$ ,\n",
        "\\begin{align}\n",
        "\\mathcal{F}[x(t)] = \\frac{X'(j\\omega)}{j\\omega}\n",
        "\\end{align} \n"
      ],
      "metadata": {
        "id": "EIud4t_Jz91e"
      }
    },
    {
      "cell_type": "markdown",
      "source": [
        "Example 2"
      ],
      "metadata": {
        "id": "TXSDzYrK0uZ3"
      }
    },
    {
      "cell_type": "code",
      "source": [
        "#plot of x(t)"
      ],
      "metadata": {
        "id": "hju8wdnS1Mr-"
      },
      "execution_count": null,
      "outputs": []
    },
    {
      "cell_type": "code",
      "source": [
        "#plot of x'(t)"
      ],
      "metadata": {
        "id": "AbZxwM8u1P1P"
      },
      "execution_count": null,
      "outputs": []
    },
    {
      "cell_type": "markdown",
      "source": [
        "\\begin{align}\n",
        "x'(t)=&\\delta(t+T_1)-\\delta(t-T_1) \\\\\n",
        "X'(j\\omega)=&1.e^{j\\omega T_1}-1.e^{-j\\omega T_1} \\\\\n",
        "\\end{align}\n",
        "\n",
        "Since $x(t)=\\int_{-∞}^{t}x(𝝉)\\,\\mathrm{d}𝝉 , $\n",
        "\\begin{align}\n",
        "X(j\\omega)= &\\frac{X'(j\\omega)}{j\\omega} +π\\,{X'(0)}\\,δ(\\omega)\n",
        "\\end{align}\n",
        "\\\n",
        "Here, $X'(0)=\\int_{-∞}^{∞}x'(t)\\,\\mathrm{d}t = 0 $\n",
        "\\\n",
        "Therefore, \n",
        "\\begin{align}\n",
        "X(j\\omega)=& \\frac{X'(j\\omega)}{j\\omega} =\\frac{e^{j\\omega T_1}-e^{-j\\omega T_1}}{j\\omega}\\\\\n",
        "X(j\\omega)= &\\frac{2}{\\omega}\\frac{e^{j\\omega T_1}-e^{-j\\omega T_1}}{2j} \\\\\n",
        "X(j\\omega)=&\\frac{2}{\\omega}\\sin(\\omega T_1) \\\\\n",
        "X(j\\omega)=& 2 T_1 \\frac{\\sin[\\pi (\\frac{\\omega T_1}{\\pi})]}{\\pi (\\frac{\\omega T_1}{\\pi})} \\\\\n",
        "X(j\\omega)=& 2 T_1 \\sin(\\frac{\\omega T_1}{\\pi})\n",
        "\\end{align}\n",
        "\n",
        "\n"
      ],
      "metadata": {
        "id": "zKxSYLZl1Szm"
      }
    },
    {
      "cell_type": "markdown",
      "source": [
        "Example 3\n"
      ],
      "metadata": {
        "id": "d3iRdr7q-32M"
      }
    },
    {
      "cell_type": "code",
      "source": [
        "#plot x(t)"
      ],
      "metadata": {
        "id": "gZye2ZAm-_tz"
      },
      "execution_count": null,
      "outputs": []
    },
    {
      "cell_type": "code",
      "source": [
        "#plot x'(t)"
      ],
      "metadata": {
        "id": "e7Tw91Zj_Ckr"
      },
      "execution_count": null,
      "outputs": []
    },
    {
      "cell_type": "code",
      "source": [
        "#plot x\"(t)"
      ],
      "metadata": {
        "id": "R6bHNDyw_E-O"
      },
      "execution_count": null,
      "outputs": []
    },
    {
      "cell_type": "markdown",
      "source": [
        "Accoding to the plot of $x^{\"}(t),$\n",
        "\\begin{align}\n",
        "X^{\"}(j\\omega)=&\\frac{Ae^{j\\omega \\,T_1}}{T_1} -\\frac{2A}{T_1} +\\frac{A e^{-j\\omega T_1}}{T_1} \\\\\n",
        "=&\\frac{A}{T_1}(e^{j\\omega \\,T_1} -2 +e^{-j\\omega \\,T_1})\n",
        "\\end{align}\\\n",
        "\\\n",
        "Since $\\int_{-∞}^{∞}x^{\"}(t)\\,\\mathrm{d}t = 0, $\n",
        "\\begin{align}\n",
        "X'(j\\omega)=& \\frac{\\frac{A}{T_1}(e^{j\\omega \\,T_1} -2 +e^{-j\\omega \\,T_1})}{j\\omega}\n",
        "\\end{align}\\\n",
        "\\\n",
        "since $\\int_{-∞}^{∞}x^{'}(t)\\,\\mathrm{d}t = 0 , $\n",
        "\\begin{align}\n",
        "X(j\\omega)=& \\frac{\\frac{A}{T_1}(e^{j\\omega \\,T_1} -2 +e^{-j\\omega \\,T_1})}{(j\\omega)^2}\n",
        "\\end{align}\n"
      ],
      "metadata": {
        "id": "iZ6bd_JD_LK7"
      }
    },
    {
      "cell_type": "markdown",
      "source": [
        "#### $\\mathcal{F^{-1}}[δ(\\omega)]$"
      ],
      "metadata": {
        "id": "OAljMoRlJFqC"
      }
    },
    {
      "cell_type": "markdown",
      "source": [
        "Inverse fourier transform of $\\delta(\\omega) ,$\n",
        "\\begin{align}\n",
        "x(t)=& \\frac{1} {2π} \\, \\int_{-∞}^{∞}\\delta(ω) \\, e^{jωt} \\, \\mathrm{d}ω \\\\\n",
        "=& \\frac{1} {2π} \\, \\int_{-∞}^{∞}\\delta(ω) \\, e^{j\\times 0 \\times t} \\, \\mathrm{d}ω \\\\\n",
        "=& \\frac{1} {2π} \\, \\int_{-∞}^{∞}\\delta(ω) \\mathrm{d}ω \\\\\n",
        "x(t)=& \\frac{1} {2π}\n",
        "\\end{align} \\\n",
        "\\\n",
        "Therefore, \n",
        "\\begin{align}\n",
        "\\mathcal{F}[1]=2\\pi \\delta(\\omega)\n",
        "\\end{align}\n",
        "\\\n",
        "Simillary,\n",
        "\\begin{align}\n",
        "\\mathcal{F}[k]=2\\pi k \\delta(\\omega)\n",
        "\\end{align}\n"
      ],
      "metadata": {
        "id": "qiRXqY5YLe4R"
      }
    },
    {
      "cell_type": "markdown",
      "source": [
        "#### F.T. of Periodic signals"
      ],
      "metadata": {
        "id": "FRY0wFz8OcLa"
      }
    },
    {
      "cell_type": "markdown",
      "source": [
        "\\begin{align}\n",
        "\\mathcal{F}[e^{j\\omega_o t}]= &\\mathcal{F}[e^{1 \\times j\\omega_o t}] \\\\\n",
        "=& 2\\pi \\delta(\\omega-\\omega_o)\n",
        "\\end{align}"
      ],
      "metadata": {
        "id": "pq0P3hXQOtKI"
      }
    },
    {
      "cell_type": "code",
      "source": [
        "#plot |x|\n"
      ],
      "metadata": {
        "id": "dzwOSmgVQCPA"
      },
      "execution_count": null,
      "outputs": []
    },
    {
      "cell_type": "code",
      "source": [
        "#plot arg(X)"
      ],
      "metadata": {
        "id": "kZawOpsjQGSA"
      },
      "execution_count": null,
      "outputs": []
    },
    {
      "cell_type": "markdown",
      "source": [
        "\\begin{align}\n",
        "\\mathcal{F}[\\cos(\\omega_o t)]= &\\mathcal{F}[\\frac{e^{j\\omega_o t}+e^{-j\\omega_o t}}{2}] \\\\\n",
        "=& \\pi \\delta(\\omega-\\omega_o) +\\pi \\delta(\\omega+\\omega_o)\n",
        "\\end{align}"
      ],
      "metadata": {
        "id": "iQ5p_lNLQJcA"
      }
    },
    {
      "cell_type": "code",
      "source": [
        "#plot |x|"
      ],
      "metadata": {
        "id": "2FfKjdMbRSYo"
      },
      "execution_count": null,
      "outputs": []
    },
    {
      "cell_type": "code",
      "source": [
        "#plot arg(X)"
      ],
      "metadata": {
        "id": "2qMo7F-YRUs4"
      },
      "execution_count": null,
      "outputs": []
    },
    {
      "cell_type": "markdown",
      "source": [
        "\\begin{align}\n",
        "\\mathcal{F}[\\sin(\\omega_o t)]= &\\mathcal{F}[\\frac{e^{j\\omega_o t}-e^{-j\\omega_o t}}{2j}] \\\\\n",
        "=& \\frac{\\pi \\delta(\\omega-\\omega_o)}{j} -\\frac{\\pi \\delta(\\omega+\\omega_o)}{j}\n",
        "\\end{align}"
      ],
      "metadata": {
        "id": "T0tfl_R2ReBC"
      }
    },
    {
      "cell_type": "code",
      "source": [
        "#plot |x|"
      ],
      "metadata": {
        "id": "YtkhEFbOSCvp"
      },
      "execution_count": null,
      "outputs": []
    },
    {
      "cell_type": "code",
      "source": [
        "#plot arg(X)"
      ],
      "metadata": {
        "id": "Xdi-CnydSEMP"
      },
      "execution_count": null,
      "outputs": []
    },
    {
      "cell_type": "markdown",
      "source": [
        "Consider a periodic signal with fundamental Frequency $\\omega_o $\n",
        "\\begin{align}\n",
        "x(t)=&\\sum_{k=-∞}^∞ X_k e^{jk\\omega_o t}\\\\ \n",
        "\\\n",
        "\\mathcal{F}[x(t)]=&\\mathcal{F}[\\sum_{k=-∞}^∞ X_k e^{jk\\omega_o t}]\\\\\n",
        "=&\\sum_{k=-∞}^∞ \\mathcal{F}[ X_k e^{jk\\omega_o t}] \\\\\n",
        "=&\\sum_{k=-∞}^∞  X_k \\mathcal{F}[e^{jk\\omega_o t}] \\\\\n",
        "=&\\sum_{k=-∞}^∞  X_k \\,2\\pi \\,\\delta(\\omega-k\\omega_o) \\\\\n",
        "\\mathcal{F}[x(t)]=& 2\\pi \\,\\sum_{k=-∞}^∞  X_k \\,\\delta(\\omega-k\\omega_o)\n",
        "\\end{align}"
      ],
      "metadata": {
        "id": "461QODg8SFpA"
      }
    },
    {
      "cell_type": "code",
      "source": [
        "#spectrum for periodic signal"
      ],
      "metadata": {
        "id": "yUQzHfqeUqQA"
      },
      "execution_count": null,
      "outputs": []
    }
  ]
}